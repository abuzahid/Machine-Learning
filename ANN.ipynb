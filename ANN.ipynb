{
 "cells": [
  {
   "cell_type": "markdown",
   "metadata": {},
   "source": [
    "Creating a model if a subscriber will leave bank or not"
   ]
  },
  {
   "cell_type": "code",
   "execution_count": 57,
   "metadata": {},
   "outputs": [],
   "source": [
    "import pandas as pd\n",
    "import matplotlib.pyplot as plt\n",
    "import numpy as np"
   ]
  },
  {
   "cell_type": "code",
   "execution_count": 81,
   "metadata": {},
   "outputs": [],
   "source": [
    "df= pd.read_csv('Churn_Modelling.csv')"
   ]
  },
  {
   "cell_type": "code",
   "execution_count": 82,
   "metadata": {},
   "outputs": [],
   "source": [
    "df['Geography']=df['Geography'].map({'France':1, 'Spain':2, 'Germany':3})\n",
    "df['Gender']=df['Gender'].map({'Female':1, 'Male':2})"
   ]
  },
  {
   "cell_type": "code",
   "execution_count": 83,
   "metadata": {},
   "outputs": [],
   "source": [
    "x= df.iloc[:,3:13].values\n",
    "y=df.iloc[:,13].values"
   ]
  },
  {
   "cell_type": "code",
   "execution_count": 84,
   "metadata": {},
   "outputs": [],
   "source": [
    "from sklearn.model_selection import train_test_split\n",
    "x_train,x_test,y_train,y_test= train_test_split(x,y,test_size=0.2,random_state=0)"
   ]
  },
  {
   "cell_type": "code",
   "execution_count": 86,
   "metadata": {},
   "outputs": [],
   "source": [
    "from sklearn.preprocessing import StandardScaler\n",
    "sc=StandardScaler()\n",
    "x_train=sc.fit_transform(x_train)\n",
    "x_test=sc.fit_transform(x_test)"
   ]
  },
  {
   "cell_type": "code",
   "execution_count": 87,
   "metadata": {},
   "outputs": [],
   "source": [
    "import keras\n",
    "from keras.models import Sequential\n",
    "from keras.layers import Dense"
   ]
  },
  {
   "cell_type": "code",
   "execution_count": 88,
   "metadata": {},
   "outputs": [],
   "source": [
    "classifier= Sequential()"
   ]
  },
  {
   "cell_type": "code",
   "execution_count": 89,
   "metadata": {},
   "outputs": [
    {
     "name": "stderr",
     "output_type": "stream",
     "text": [
      "C:\\Users\\Abu Zahid\\Anaconda3\\lib\\site-packages\\ipykernel_launcher.py:1: UserWarning: Update your `Dense` call to the Keras 2 API: `Dense(activation=\"relu\", input_dim=10, units=6, kernel_initializer=\"uniform\")`\n",
      "  \"\"\"Entry point for launching an IPython kernel.\n"
     ]
    }
   ],
   "source": [
    "classifier.add(Dense(output_dim=6,init='uniform', activation='relu',input_dim=10))"
   ]
  },
  {
   "cell_type": "code",
   "execution_count": 90,
   "metadata": {},
   "outputs": [
    {
     "name": "stderr",
     "output_type": "stream",
     "text": [
      "C:\\Users\\Abu Zahid\\Anaconda3\\lib\\site-packages\\ipykernel_launcher.py:1: UserWarning: Update your `Dense` call to the Keras 2 API: `Dense(activation=\"relu\", units=6, kernel_initializer=\"uniform\")`\n",
      "  \"\"\"Entry point for launching an IPython kernel.\n"
     ]
    }
   ],
   "source": [
    "classifier.add(Dense(output_dim=6,init='uniform', activation='relu'))"
   ]
  },
  {
   "cell_type": "code",
   "execution_count": 91,
   "metadata": {},
   "outputs": [
    {
     "name": "stderr",
     "output_type": "stream",
     "text": [
      "C:\\Users\\Abu Zahid\\Anaconda3\\lib\\site-packages\\ipykernel_launcher.py:1: UserWarning: Update your `Dense` call to the Keras 2 API: `Dense(activation=\"sigmoid\", units=1, kernel_initializer=\"uniform\")`\n",
      "  \"\"\"Entry point for launching an IPython kernel.\n"
     ]
    }
   ],
   "source": [
    "classifier.add(Dense(output_dim=1,init='uniform', activation='sigmoid'))"
   ]
  },
  {
   "cell_type": "code",
   "execution_count": 92,
   "metadata": {},
   "outputs": [],
   "source": [
    "classifier.compile(optimizer='adam', loss= 'binary_crossentropy',metrics=['accuracy'])"
   ]
  },
  {
   "cell_type": "code",
   "execution_count": 93,
   "metadata": {},
   "outputs": [
    {
     "name": "stderr",
     "output_type": "stream",
     "text": [
      "C:\\Users\\Abu Zahid\\Anaconda3\\lib\\site-packages\\ipykernel_launcher.py:1: UserWarning: The `nb_epoch` argument in `fit` has been renamed `epochs`.\n",
      "  \"\"\"Entry point for launching an IPython kernel.\n"
     ]
    },
    {
     "name": "stdout",
     "output_type": "stream",
     "text": [
      "WARNING:tensorflow:From C:\\Users\\Abu Zahid\\Anaconda3\\lib\\site-packages\\tensorflow\\python\\ops\\math_ops.py:3066: to_int32 (from tensorflow.python.ops.math_ops) is deprecated and will be removed in a future version.\n",
      "Instructions for updating:\n",
      "Use tf.cast instead.\n",
      "Epoch 1/100\n",
      "8000/8000 [==============================] - 2s 276us/step - loss: 0.4863 - acc: 0.7951\n",
      "Epoch 2/100\n",
      "8000/8000 [==============================] - 1s 77us/step - loss: 0.4280 - acc: 0.7960\n",
      "Epoch 3/100\n",
      "8000/8000 [==============================] - 1s 80us/step - loss: 0.4226 - acc: 0.7981\n",
      "Epoch 4/100\n",
      "8000/8000 [==============================] - 1s 74us/step - loss: 0.4185 - acc: 0.8214\n",
      "Epoch 5/100\n",
      "8000/8000 [==============================] - 1s 74us/step - loss: 0.4166 - acc: 0.8304\n",
      "Epoch 6/100\n",
      "8000/8000 [==============================] - 1s 74us/step - loss: 0.4148 - acc: 0.8304\n",
      "Epoch 7/100\n",
      "8000/8000 [==============================] - 1s 75us/step - loss: 0.4133 - acc: 0.8327\n",
      "Epoch 8/100\n",
      "8000/8000 [==============================] - 1s 75us/step - loss: 0.4122 - acc: 0.8317\n",
      "Epoch 9/100\n",
      "8000/8000 [==============================] - 1s 81us/step - loss: 0.4111 - acc: 0.8327\n",
      "Epoch 10/100\n",
      "8000/8000 [==============================] - 1s 74us/step - loss: 0.4104 - acc: 0.8322\n",
      "Epoch 11/100\n",
      "8000/8000 [==============================] - 1s 74us/step - loss: 0.4099 - acc: 0.8329\n",
      "Epoch 12/100\n",
      "8000/8000 [==============================] - 1s 75us/step - loss: 0.4085 - acc: 0.8331\n",
      "Epoch 13/100\n",
      "8000/8000 [==============================] - 1s 74us/step - loss: 0.4082 - acc: 0.8332\n",
      "Epoch 14/100\n",
      "8000/8000 [==============================] - 1s 76us/step - loss: 0.4075 - acc: 0.8320\n",
      "Epoch 15/100\n",
      "8000/8000 [==============================] - 1s 75us/step - loss: 0.4078 - acc: 0.8321\n",
      "Epoch 16/100\n",
      "8000/8000 [==============================] - 1s 76us/step - loss: 0.4070 - acc: 0.8337\n",
      "Epoch 17/100\n",
      "8000/8000 [==============================] - 1s 74us/step - loss: 0.4068 - acc: 0.8339\n",
      "Epoch 18/100\n",
      "8000/8000 [==============================] - 1s 76us/step - loss: 0.4062 - acc: 0.8324\n",
      "Epoch 19/100\n",
      "8000/8000 [==============================] - 1s 76us/step - loss: 0.4061 - acc: 0.8341\n",
      "Epoch 20/100\n",
      "8000/8000 [==============================] - 1s 77us/step - loss: 0.4052 - acc: 0.8330\n",
      "Epoch 21/100\n",
      "8000/8000 [==============================] - 1s 81us/step - loss: 0.4060 - acc: 0.8355\n",
      "Epoch 22/100\n",
      "8000/8000 [==============================] - 1s 75us/step - loss: 0.4049 - acc: 0.8329\n",
      "Epoch 23/100\n",
      "8000/8000 [==============================] - 1s 75us/step - loss: 0.4052 - acc: 0.8344\n",
      "Epoch 24/100\n",
      "8000/8000 [==============================] - 1s 83us/step - loss: 0.4051 - acc: 0.8346\n",
      "Epoch 25/100\n",
      "8000/8000 [==============================] - 1s 75us/step - loss: 0.4050 - acc: 0.8354\n",
      "Epoch 26/100\n",
      "8000/8000 [==============================] - 1s 82us/step - loss: 0.4045 - acc: 0.8351\n",
      "Epoch 27/100\n",
      "8000/8000 [==============================] - 1s 80us/step - loss: 0.4050 - acc: 0.8336\n",
      "Epoch 28/100\n",
      "8000/8000 [==============================] - 1s 84us/step - loss: 0.4046 - acc: 0.8320\n",
      "Epoch 29/100\n",
      "8000/8000 [==============================] - 1s 90us/step - loss: 0.4044 - acc: 0.8331\n",
      "Epoch 30/100\n",
      "8000/8000 [==============================] - 1s 74us/step - loss: 0.4042 - acc: 0.8336\n",
      "Epoch 31/100\n",
      "8000/8000 [==============================] - 1s 74us/step - loss: 0.4043 - acc: 0.8341\n",
      "Epoch 32/100\n",
      "8000/8000 [==============================] - 1s 75us/step - loss: 0.4043 - acc: 0.8326\n",
      "Epoch 33/100\n",
      "8000/8000 [==============================] - 1s 74us/step - loss: 0.4035 - acc: 0.8349\n",
      "Epoch 34/100\n",
      "8000/8000 [==============================] - 1s 74us/step - loss: 0.4041 - acc: 0.8329\n",
      "Epoch 35/100\n",
      "8000/8000 [==============================] - 1s 75us/step - loss: 0.4042 - acc: 0.8331\n",
      "Epoch 36/100\n",
      "8000/8000 [==============================] - 1s 75us/step - loss: 0.4036 - acc: 0.8324\n",
      "Epoch 37/100\n",
      "8000/8000 [==============================] - 1s 77us/step - loss: 0.4040 - acc: 0.8331\n",
      "Epoch 38/100\n",
      "8000/8000 [==============================] - 1s 75us/step - loss: 0.4038 - acc: 0.8324\n",
      "Epoch 39/100\n",
      "8000/8000 [==============================] - 1s 74us/step - loss: 0.4038 - acc: 0.8332\n",
      "Epoch 40/100\n",
      "8000/8000 [==============================] - 1s 76us/step - loss: 0.4038 - acc: 0.8335\n",
      "Epoch 41/100\n",
      "8000/8000 [==============================] - 1s 75us/step - loss: 0.4032 - acc: 0.8335\n",
      "Epoch 42/100\n",
      "8000/8000 [==============================] - 1s 76us/step - loss: 0.4038 - acc: 0.8354\n",
      "Epoch 43/100\n",
      "8000/8000 [==============================] - 1s 81us/step - loss: 0.4034 - acc: 0.8334\n",
      "Epoch 44/100\n",
      "8000/8000 [==============================] - 1s 78us/step - loss: 0.4030 - acc: 0.8334\n",
      "Epoch 45/100\n",
      "8000/8000 [==============================] - 1s 83us/step - loss: 0.4033 - acc: 0.8326\n",
      "Epoch 46/100\n",
      "8000/8000 [==============================] - 1s 81us/step - loss: 0.4032 - acc: 0.8347\n",
      "Epoch 47/100\n",
      "8000/8000 [==============================] - 1s 74us/step - loss: 0.4034 - acc: 0.8326\n",
      "Epoch 48/100\n",
      "8000/8000 [==============================] - 1s 77us/step - loss: 0.4036 - acc: 0.8342\n",
      "Epoch 49/100\n",
      "8000/8000 [==============================] - 1s 74us/step - loss: 0.4033 - acc: 0.8324\n",
      "Epoch 50/100\n",
      "8000/8000 [==============================] - 1s 74us/step - loss: 0.4035 - acc: 0.8334\n",
      "Epoch 51/100\n",
      "8000/8000 [==============================] - 1s 78us/step - loss: 0.4028 - acc: 0.8340\n",
      "Epoch 52/100\n",
      "8000/8000 [==============================] - 1s 75us/step - loss: 0.4031 - acc: 0.8332\n",
      "Epoch 53/100\n",
      "8000/8000 [==============================] - 1s 76us/step - loss: 0.4028 - acc: 0.8347\n",
      "Epoch 54/100\n",
      "8000/8000 [==============================] - 1s 79us/step - loss: 0.4027 - acc: 0.8345\n",
      "Epoch 55/100\n",
      "8000/8000 [==============================] - 1s 91us/step - loss: 0.4029 - acc: 0.8327\n",
      "Epoch 56/100\n",
      "8000/8000 [==============================] - 1s 82us/step - loss: 0.4031 - acc: 0.8341\n",
      "Epoch 57/100\n",
      "8000/8000 [==============================] - 1s 78us/step - loss: 0.4029 - acc: 0.8329\n",
      "Epoch 58/100\n",
      "8000/8000 [==============================] - 1s 75us/step - loss: 0.4028 - acc: 0.8334\n",
      "Epoch 59/100\n",
      "8000/8000 [==============================] - 1s 81us/step - loss: 0.4031 - acc: 0.8344\n",
      "Epoch 60/100\n",
      "8000/8000 [==============================] - 1s 79us/step - loss: 0.4028 - acc: 0.8344\n",
      "Epoch 61/100\n",
      "8000/8000 [==============================] - 1s 78us/step - loss: 0.4028 - acc: 0.8337\n",
      "Epoch 62/100\n",
      "8000/8000 [==============================] - 1s 79us/step - loss: 0.4025 - acc: 0.8345\n",
      "Epoch 63/100\n",
      "8000/8000 [==============================] - 1s 79us/step - loss: 0.4025 - acc: 0.8337\n",
      "Epoch 64/100\n",
      "8000/8000 [==============================] - 1s 79us/step - loss: 0.4025 - acc: 0.8331\n",
      "Epoch 65/100\n",
      "8000/8000 [==============================] - 1s 78us/step - loss: 0.4024 - acc: 0.8344\n",
      "Epoch 66/100\n",
      "8000/8000 [==============================] - 1s 78us/step - loss: 0.4028 - acc: 0.8332\n",
      "Epoch 67/100\n",
      "8000/8000 [==============================] - 1s 77us/step - loss: 0.4029 - acc: 0.8329\n",
      "Epoch 68/100\n",
      "8000/8000 [==============================] - 1s 76us/step - loss: 0.4025 - acc: 0.8324\n",
      "Epoch 69/100\n",
      "8000/8000 [==============================] - 1s 81us/step - loss: 0.4025 - acc: 0.8350\n",
      "Epoch 70/100\n",
      "8000/8000 [==============================] - 1s 79us/step - loss: 0.4026 - acc: 0.8322\n",
      "Epoch 71/100\n",
      "8000/8000 [==============================] - 1s 78us/step - loss: 0.4025 - acc: 0.8329\n",
      "Epoch 72/100\n",
      "8000/8000 [==============================] - 1s 78us/step - loss: 0.4020 - acc: 0.8329\n",
      "Epoch 73/100\n",
      "8000/8000 [==============================] - 1s 78us/step - loss: 0.4027 - acc: 0.8332\n",
      "Epoch 74/100\n",
      "8000/8000 [==============================] - 1s 78us/step - loss: 0.4023 - acc: 0.8349\n",
      "Epoch 75/100\n",
      "8000/8000 [==============================] - 1s 78us/step - loss: 0.4022 - acc: 0.8340\n",
      "Epoch 76/100\n",
      "8000/8000 [==============================] - 1s 78us/step - loss: 0.4026 - acc: 0.8346\n",
      "Epoch 77/100\n",
      "8000/8000 [==============================] - 1s 80us/step - loss: 0.4026 - acc: 0.8336\n",
      "Epoch 78/100\n",
      "8000/8000 [==============================] - 1s 77us/step - loss: 0.4024 - acc: 0.8331\n",
      "Epoch 79/100\n",
      "8000/8000 [==============================] - 1s 77us/step - loss: 0.4025 - acc: 0.8332\n",
      "Epoch 80/100\n"
     ]
    },
    {
     "name": "stdout",
     "output_type": "stream",
     "text": [
      "8000/8000 [==============================] - 1s 85us/step - loss: 0.4026 - acc: 0.8337\n",
      "Epoch 81/100\n",
      "8000/8000 [==============================] - 1s 77us/step - loss: 0.4023 - acc: 0.8336\n",
      "Epoch 82/100\n",
      "8000/8000 [==============================] - 1s 75us/step - loss: 0.4023 - acc: 0.8334\n",
      "Epoch 83/100\n",
      "8000/8000 [==============================] - 1s 75us/step - loss: 0.4028 - acc: 0.8325\n",
      "Epoch 84/100\n",
      "8000/8000 [==============================] - 1s 75us/step - loss: 0.4023 - acc: 0.8324\n",
      "Epoch 85/100\n",
      "8000/8000 [==============================] - 1s 75us/step - loss: 0.4023 - acc: 0.8324\n",
      "Epoch 86/100\n",
      "8000/8000 [==============================] - 1s 75us/step - loss: 0.4021 - acc: 0.8332\n",
      "Epoch 87/100\n",
      "8000/8000 [==============================] - 1s 76us/step - loss: 0.4023 - acc: 0.8327\n",
      "Epoch 88/100\n",
      "8000/8000 [==============================] - 1s 75us/step - loss: 0.4022 - acc: 0.8336\n",
      "Epoch 89/100\n",
      "8000/8000 [==============================] - 1s 75us/step - loss: 0.4022 - acc: 0.8339\n",
      "Epoch 90/100\n",
      "8000/8000 [==============================] - 1s 75us/step - loss: 0.4024 - acc: 0.8335\n",
      "Epoch 91/100\n",
      "8000/8000 [==============================] - 1s 76us/step - loss: 0.4021 - acc: 0.8326\n",
      "Epoch 92/100\n",
      "8000/8000 [==============================] - 1s 75us/step - loss: 0.4018 - acc: 0.8335\n",
      "Epoch 93/100\n",
      "8000/8000 [==============================] - 1s 75us/step - loss: 0.4018 - acc: 0.8327\n",
      "Epoch 94/100\n",
      "8000/8000 [==============================] - 1s 75us/step - loss: 0.4019 - acc: 0.8312\n",
      "Epoch 95/100\n",
      "8000/8000 [==============================] - 1s 75us/step - loss: 0.4021 - acc: 0.8342\n",
      "Epoch 96/100\n",
      "8000/8000 [==============================] - 1s 75us/step - loss: 0.4020 - acc: 0.8336\n",
      "Epoch 97/100\n",
      "8000/8000 [==============================] - 1s 76us/step - loss: 0.4020 - acc: 0.8330\n",
      "Epoch 98/100\n",
      "8000/8000 [==============================] - 1s 75us/step - loss: 0.4021 - acc: 0.8342\n",
      "Epoch 99/100\n",
      "8000/8000 [==============================] - 1s 75us/step - loss: 0.4019 - acc: 0.8342\n",
      "Epoch 100/100\n",
      "8000/8000 [==============================] - 1s 76us/step - loss: 0.4020 - acc: 0.8350\n"
     ]
    },
    {
     "data": {
      "text/plain": [
       "<keras.callbacks.History at 0x99969d83c8>"
      ]
     },
     "execution_count": 93,
     "metadata": {},
     "output_type": "execute_result"
    }
   ],
   "source": [
    "classifier.fit(x_train,y_train, batch_size=10, nb_epoch=100)"
   ]
  },
  {
   "cell_type": "code",
   "execution_count": 94,
   "metadata": {},
   "outputs": [],
   "source": [
    "y_pred= classifier.predict(x_test)"
   ]
  },
  {
   "cell_type": "code",
   "execution_count": 101,
   "metadata": {},
   "outputs": [],
   "source": [
    "y_pred=y_pred>0.5"
   ]
  },
  {
   "cell_type": "code",
   "execution_count": 100,
   "metadata": {},
   "outputs": [
    {
     "data": {
      "text/plain": [
       "array([0, 1, 0, ..., 0, 0, 0], dtype=int64)"
      ]
     },
     "execution_count": 100,
     "metadata": {},
     "output_type": "execute_result"
    }
   ],
   "source": [
    "y_test"
   ]
  },
  {
   "cell_type": "code",
   "execution_count": 97,
   "metadata": {},
   "outputs": [],
   "source": [
    "from sklearn.metrics import confusion_matrix"
   ]
  },
  {
   "cell_type": "code",
   "execution_count": 102,
   "metadata": {},
   "outputs": [],
   "source": [
    "cm=confusion_matrix(y_test,y_pred)"
   ]
  },
  {
   "cell_type": "code",
   "execution_count": 103,
   "metadata": {},
   "outputs": [
    {
     "data": {
      "text/plain": [
       "array([[1560,   35],\n",
       "       [ 282,  123]], dtype=int64)"
      ]
     },
     "execution_count": 103,
     "metadata": {},
     "output_type": "execute_result"
    }
   ],
   "source": [
    "cm"
   ]
  },
  {
   "cell_type": "code",
   "execution_count": null,
   "metadata": {},
   "outputs": [],
   "source": []
  }
 ],
 "metadata": {
  "kernelspec": {
   "display_name": "Python 3",
   "language": "python",
   "name": "python3"
  },
  "language_info": {
   "codemirror_mode": {
    "name": "ipython",
    "version": 3
   },
   "file_extension": ".py",
   "mimetype": "text/x-python",
   "name": "python",
   "nbconvert_exporter": "python",
   "pygments_lexer": "ipython3",
   "version": "3.7.3"
  }
 },
 "nbformat": 4,
 "nbformat_minor": 2
}
